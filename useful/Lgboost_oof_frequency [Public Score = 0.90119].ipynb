{
 "cells": [
  {
   "cell_type": "code",
   "execution_count": 1,
   "metadata": {},
   "outputs": [],
   "source": [
    "import numpy as np \n",
    "import pandas as pd \n",
    "\n",
    "from sklearn.model_selection import train_test_split\n",
    "from sklearn.model_selection import KFold,StratifiedKFold\n",
    "from sklearn.model_selection import GridSearchCV\n",
    "\n",
    "from xgboost import XGBClassifier\n",
    "from lightgbm import LGBMClassifier \n",
    "import lightgbm as lgb\n",
    "\n",
    "from sklearn.metrics import roc_auc_score\n",
    "from sklearn.preprocessing import StandardScaler"
   ]
  },
  {
   "cell_type": "code",
   "execution_count": 2,
   "metadata": {},
   "outputs": [],
   "source": [
    "train = pd.read_csv(\"train.csv\")\n",
    "test = pd.read_csv(\"test.csv\")"
   ]
  },
  {
   "cell_type": "code",
   "execution_count": 3,
   "metadata": {},
   "outputs": [
    {
     "name": "stdout",
     "output_type": "stream",
     "text": [
      "(200000, 202)\n",
      "(200000, 201)\n"
     ]
    }
   ],
   "source": [
    "print(train.shape)\n",
    "print(test.shape)"
   ]
  },
  {
   "cell_type": "code",
   "execution_count": 4,
   "metadata": {},
   "outputs": [],
   "source": [
    "test['target'] = -1\n",
    "comb = pd.concat([train,test],axis=0,sort=True)"
   ]
  },
  {
   "cell_type": "code",
   "execution_count": 5,
   "metadata": {},
   "outputs": [],
   "source": [
    "#frequency encoding\n",
    "for i in range(200):\n",
    "    fe = comb['var_'+str(i)].value_counts()\n",
    "    name = 'var_'+str(i)+'_FE'\n",
    "    comb[name] = comb['var_'+str(i)].map(fe)\n",
    "train = comb[:len(train)]\n",
    "test = comb[len(train):]"
   ]
  },
  {
   "cell_type": "code",
   "execution_count": 6,
   "metadata": {},
   "outputs": [
    {
     "name": "stdout",
     "output_type": "stream",
     "text": [
      "(200000, 402)\n",
      "(200000, 402)\n"
     ]
    }
   ],
   "source": [
    "print(train.shape)\n",
    "print(test.shape)"
   ]
  },
  {
   "cell_type": "code",
   "execution_count": 7,
   "metadata": {},
   "outputs": [
    {
     "name": "stderr",
     "output_type": "stream",
     "text": [
      "C:\\Users\\user\\Anaconda3\\lib\\site-packages\\pandas\\core\\frame.py:3697: SettingWithCopyWarning: \n",
      "A value is trying to be set on a copy of a slice from a DataFrame\n",
      "\n",
      "See the caveats in the documentation: http://pandas.pydata.org/pandas-docs/stable/indexing.html#indexing-view-versus-copy\n",
      "  errors=errors)\n"
     ]
    }
   ],
   "source": [
    "target = train['target']\n",
    "del train['target']\n",
    "del test['target']\n",
    "oof = np.zeros(len(train))\n",
    "predictions = test[['ID_code']]\n",
    "\n",
    "test_id = test['ID_code']\n",
    "\n",
    "train.drop('ID_code',axis=1 , inplace=True)\n",
    "test.drop('ID_code',axis=1 , inplace=True)"
   ]
  },
  {
   "cell_type": "code",
   "execution_count": 17,
   "metadata": {},
   "outputs": [],
   "source": [
    "param = {\n",
    "    'bagging_freq': 5,\n",
    "    'bagging_fraction': 0.335,\n",
    "    'boost_from_average':'false',\n",
    "    'boost': 'gbdt',\n",
    "    'feature_fraction': 1,\n",
    "    'learning_rate': 0.0083,\n",
    "    'max_depth': -1,\n",
    "    'metric':'auc',\n",
    "    'min_data_in_leaf': 80,\n",
    "    'min_sum_hessian_in_leaf': 10.0,\n",
    "    'num_leaves': 13,\n",
    "    'num_threads': 8,\n",
    "    'tree_learner': 'serial',\n",
    "    'objective': 'binary', \n",
    "    'verbosity': -1\n",
    "}"
   ]
  },
  {
   "cell_type": "code",
   "execution_count": 18,
   "metadata": {},
   "outputs": [
    {
     "name": "stdout",
     "output_type": "stream",
     "text": [
      "Light GBM Model\n",
      "Fold idx:1\n",
      "Training until validation scores don't improve for 4000 rounds.\n",
      "[1000]\ttraining's auc: 0.88686\tvalid_1's auc: 0.862692\n",
      "[2000]\ttraining's auc: 0.916524\tvalid_1's auc: 0.887533\n",
      "[3000]\ttraining's auc: 0.930331\tvalid_1's auc: 0.896773\n",
      "[4000]\ttraining's auc: 0.938656\tvalid_1's auc: 0.901296\n",
      "[5000]\ttraining's auc: 0.945267\tvalid_1's auc: 0.903284\n",
      "[6000]\ttraining's auc: 0.951194\tvalid_1's auc: 0.904319\n",
      "[7000]\ttraining's auc: 0.956445\tvalid_1's auc: 0.904958\n",
      "[8000]\ttraining's auc: 0.961253\tvalid_1's auc: 0.904933\n",
      "[9000]\ttraining's auc: 0.965682\tvalid_1's auc: 0.905199\n",
      "[10000]\ttraining's auc: 0.969807\tvalid_1's auc: 0.905051\n",
      "[11000]\ttraining's auc: 0.973506\tvalid_1's auc: 0.905091\n",
      "[12000]\ttraining's auc: 0.976883\tvalid_1's auc: 0.904803\n",
      "[13000]\ttraining's auc: 0.979916\tvalid_1's auc: 0.90472\n",
      "Early stopping, best iteration is:\n",
      "[9587]\ttraining's auc: 0.968158\tvalid_1's auc: 0.90534\n",
      "Fold idx:2\n",
      "Training until validation scores don't improve for 4000 rounds.\n",
      "[1000]\ttraining's auc: 0.886682\tvalid_1's auc: 0.8629\n",
      "[2000]\ttraining's auc: 0.916451\tvalid_1's auc: 0.886684\n",
      "[3000]\ttraining's auc: 0.93047\tvalid_1's auc: 0.89605\n",
      "[4000]\ttraining's auc: 0.93908\tvalid_1's auc: 0.899919\n",
      "[5000]\ttraining's auc: 0.945648\tvalid_1's auc: 0.902023\n",
      "[6000]\ttraining's auc: 0.95128\tvalid_1's auc: 0.902919\n",
      "[7000]\ttraining's auc: 0.956552\tvalid_1's auc: 0.903251\n",
      "[8000]\ttraining's auc: 0.961296\tvalid_1's auc: 0.903605\n",
      "[9000]\ttraining's auc: 0.965677\tvalid_1's auc: 0.903532\n",
      "[10000]\ttraining's auc: 0.96987\tvalid_1's auc: 0.90355\n",
      "[11000]\ttraining's auc: 0.973685\tvalid_1's auc: 0.903487\n",
      "[12000]\ttraining's auc: 0.977106\tvalid_1's auc: 0.903632\n",
      "[13000]\ttraining's auc: 0.980255\tvalid_1's auc: 0.903516\n",
      "[14000]\ttraining's auc: 0.982928\tvalid_1's auc: 0.903719\n",
      "[15000]\ttraining's auc: 0.98534\tvalid_1's auc: 0.903587\n",
      "[16000]\ttraining's auc: 0.987532\tvalid_1's auc: 0.903401\n",
      "[17000]\ttraining's auc: 0.989444\tvalid_1's auc: 0.90312\n",
      "Early stopping, best iteration is:\n",
      "[13900]\ttraining's auc: 0.982668\tvalid_1's auc: 0.903788\n",
      "Fold idx:3\n",
      "Training until validation scores don't improve for 4000 rounds.\n",
      "[1000]\ttraining's auc: 0.885904\tvalid_1's auc: 0.865608\n",
      "[2000]\ttraining's auc: 0.91565\tvalid_1's auc: 0.890231\n",
      "[3000]\ttraining's auc: 0.929252\tvalid_1's auc: 0.899385\n",
      "[4000]\ttraining's auc: 0.937949\tvalid_1's auc: 0.904015\n",
      "[5000]\ttraining's auc: 0.944712\tvalid_1's auc: 0.906178\n",
      "[6000]\ttraining's auc: 0.950593\tvalid_1's auc: 0.906998\n",
      "[7000]\ttraining's auc: 0.955921\tvalid_1's auc: 0.907306\n",
      "[8000]\ttraining's auc: 0.960731\tvalid_1's auc: 0.907575\n",
      "[9000]\ttraining's auc: 0.965231\tvalid_1's auc: 0.907469\n",
      "[10000]\ttraining's auc: 0.969308\tvalid_1's auc: 0.907489\n",
      "[11000]\ttraining's auc: 0.973084\tvalid_1's auc: 0.907277\n",
      "[12000]\ttraining's auc: 0.976533\tvalid_1's auc: 0.907236\n",
      "Early stopping, best iteration is:\n",
      "[8212]\ttraining's auc: 0.961738\tvalid_1's auc: 0.907634\n",
      "Fold idx:4\n",
      "Training until validation scores don't improve for 4000 rounds.\n",
      "[1000]\ttraining's auc: 0.885875\tvalid_1's auc: 0.867161\n",
      "[2000]\ttraining's auc: 0.916383\tvalid_1's auc: 0.891507\n",
      "[3000]\ttraining's auc: 0.929507\tvalid_1's auc: 0.900108\n",
      "[4000]\ttraining's auc: 0.937856\tvalid_1's auc: 0.903954\n",
      "[5000]\ttraining's auc: 0.944726\tvalid_1's auc: 0.905807\n",
      "[6000]\ttraining's auc: 0.95076\tvalid_1's auc: 0.906736\n",
      "[7000]\ttraining's auc: 0.956116\tvalid_1's auc: 0.906909\n",
      "[8000]\ttraining's auc: 0.960952\tvalid_1's auc: 0.90731\n",
      "[9000]\ttraining's auc: 0.965398\tvalid_1's auc: 0.907223\n",
      "[10000]\ttraining's auc: 0.9694\tvalid_1's auc: 0.907298\n",
      "[11000]\ttraining's auc: 0.973164\tvalid_1's auc: 0.907276\n",
      "[12000]\ttraining's auc: 0.976684\tvalid_1's auc: 0.907068\n",
      "Early stopping, best iteration is:\n",
      "[8271]\ttraining's auc: 0.962123\tvalid_1's auc: 0.907478\n",
      "Fold idx:5\n",
      "Training until validation scores don't improve for 4000 rounds.\n",
      "[1000]\ttraining's auc: 0.885647\tvalid_1's auc: 0.87063\n",
      "[2000]\ttraining's auc: 0.915909\tvalid_1's auc: 0.893927\n",
      "[3000]\ttraining's auc: 0.929343\tvalid_1's auc: 0.902358\n",
      "[4000]\ttraining's auc: 0.938061\tvalid_1's auc: 0.906196\n",
      "[5000]\ttraining's auc: 0.944911\tvalid_1's auc: 0.908163\n",
      "[6000]\ttraining's auc: 0.950959\tvalid_1's auc: 0.908981\n",
      "[7000]\ttraining's auc: 0.956177\tvalid_1's auc: 0.909177\n",
      "[8000]\ttraining's auc: 0.961143\tvalid_1's auc: 0.909183\n",
      "[9000]\ttraining's auc: 0.965557\tvalid_1's auc: 0.909413\n",
      "[10000]\ttraining's auc: 0.969657\tvalid_1's auc: 0.90952\n",
      "[11000]\ttraining's auc: 0.973494\tvalid_1's auc: 0.909193\n",
      "[12000]\ttraining's auc: 0.976865\tvalid_1's auc: 0.909024\n",
      "[13000]\ttraining's auc: 0.979969\tvalid_1's auc: 0.908866\n",
      "Early stopping, best iteration is:\n",
      "[9755]\ttraining's auc: 0.968619\tvalid_1's auc: 0.909602\n",
      "CV score: 0.90653 \n"
     ]
    }
   ],
   "source": [
    "# frolds 지정\n",
    "num_folds = 5\n",
    "#.columns를 통해 변수 지정\n",
    "features = [c for c in train.columns ]\n",
    "\n",
    "#계층별 kfold\n",
    "folds = StratifiedKFold(n_splits=num_folds, shuffle=False, random_state=2319)\n",
    "\n",
    "oof = np.zeros(len(train))\n",
    "predictions = np.zeros(len(target))\n",
    "\n",
    "print('Light GBM Model')\n",
    "for fold_, (trn_idx, val_idx) in enumerate(folds.split(train.values, target.values)):\n",
    "    \n",
    "    X_train, y_train = train.iloc[trn_idx][features], target.iloc[trn_idx]\n",
    "    X_valid, y_valid = train.iloc[val_idx][features], target.iloc[val_idx]\n",
    "    \n",
    "    \n",
    "    print(\"Fold idx:{}\".format(fold_ + 1))\n",
    "    trn_data = lgb.Dataset(X_train, label=y_train)\n",
    "    val_data = lgb.Dataset(X_valid, label=y_valid)\n",
    "    \n",
    "    clf = lgb.train(param, trn_data, 100000, valid_sets = [trn_data, val_data], verbose_eval=1000, early_stopping_rounds = 4000)\n",
    "    oof[val_idx] = clf.predict(train.iloc[val_idx][features], num_iteration=clf.best_iteration)\n",
    "    predictions += clf.predict(test[features], num_iteration=clf.best_iteration) / folds.n_splits\n",
    "\n",
    "print(\"CV score: {:<8.5f}\".format(roc_auc_score(target, oof)))"
   ]
  },
  {
   "cell_type": "code",
   "execution_count": 19,
   "metadata": {},
   "outputs": [],
   "source": [
    "# submission\n",
    "sub_df = pd.DataFrame({\"ID_code\":test_id})\n",
    "sub_df[\"target\"] = predictions\n",
    "sub_df.to_csv(\"lgboost_oof_value_count.csv\", index=False)"
   ]
  }
 ],
 "metadata": {
  "kernelspec": {
   "display_name": "Python 3",
   "language": "python",
   "name": "python3"
  },
  "language_info": {
   "codemirror_mode": {
    "name": "ipython",
    "version": 3
   },
   "file_extension": ".py",
   "mimetype": "text/x-python",
   "name": "python",
   "nbconvert_exporter": "python",
   "pygments_lexer": "ipython3",
   "version": "3.7.1"
  },
  "varInspector": {
   "cols": {
    "lenName": 16,
    "lenType": 16,
    "lenVar": 40
   },
   "kernels_config": {
    "python": {
     "delete_cmd_postfix": "",
     "delete_cmd_prefix": "del ",
     "library": "var_list.py",
     "varRefreshCmd": "print(var_dic_list())"
    },
    "r": {
     "delete_cmd_postfix": ") ",
     "delete_cmd_prefix": "rm(",
     "library": "var_list.r",
     "varRefreshCmd": "cat(var_dic_list()) "
    }
   },
   "types_to_exclude": [
    "module",
    "function",
    "builtin_function_or_method",
    "instance",
    "_Feature"
   ],
   "window_display": false
  }
 },
 "nbformat": 4,
 "nbformat_minor": 2
}
