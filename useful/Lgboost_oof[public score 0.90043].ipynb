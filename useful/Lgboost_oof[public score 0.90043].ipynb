{
 "cells": [
  {
   "cell_type": "code",
   "execution_count": 19,
   "metadata": {},
   "outputs": [],
   "source": [
    "import numpy as np \n",
    "import pandas as pd \n",
    "\n",
    "from sklearn.model_selection import train_test_split\n",
    "from sklearn.model_selection import KFold,StratifiedKFold\n",
    "from sklearn.model_selection import GridSearchCV\n",
    "\n",
    "from xgboost import XGBClassifier\n",
    "from lightgbm import LGBMClassifier \n",
    "import lightgbm as lgb\n",
    "\n",
    "from sklearn.metrics import roc_auc_score"
   ]
  },
  {
   "cell_type": "code",
   "execution_count": 23,
   "metadata": {},
   "outputs": [],
   "source": [
    "train = pd.read_csv(\"train.csv\")\n",
    "test = pd.read_csv(\"test.csv\")"
   ]
  },
  {
   "cell_type": "code",
   "execution_count": 24,
   "metadata": {},
   "outputs": [],
   "source": [
    "target = train['target']\n",
    "del train['target']\n",
    "\n",
    "test_id = test['ID_code']\n",
    "\n",
    "train.drop('ID_code',axis=1 , inplace=True)\n",
    "test.drop('ID_code',axis=1 , inplace=True)"
   ]
  },
  {
   "cell_type": "code",
   "execution_count": 12,
   "metadata": {},
   "outputs": [],
   "source": [
    "param = {\n",
    "    'bagging_freq': 5,\n",
    "    'bagging_fraction': 0.335,\n",
    "    'boost_from_average':'false',\n",
    "    'boost': 'gbdt',\n",
    "    'feature_fraction': 0.041,\n",
    "    'learning_rate': 0.0083,\n",
    "    'max_depth': -1,\n",
    "    'metric':'auc',\n",
    "    'min_data_in_leaf': 80,\n",
    "    'min_sum_hessian_in_leaf': 10.0,\n",
    "    'num_leaves': 13,\n",
    "    'num_threads': 8,\n",
    "    'tree_learner': 'serial',\n",
    "    'objective': 'binary', \n",
    "    'verbosity': -1\n",
    "}"
   ]
  },
  {
   "cell_type": "code",
   "execution_count": 21,
   "metadata": {
    "scrolled": true
   },
   "outputs": [
    {
     "name": "stdout",
     "output_type": "stream",
     "text": [
      "Light GBM Model\n",
      "Fold idx:1\n",
      "Training until validation scores don't improve for 4000 rounds.\n",
      "[1000]\ttraining's auc: 0.902435\tvalid_1's auc: 0.883856\n",
      "[2000]\ttraining's auc: 0.912589\tvalid_1's auc: 0.89053\n",
      "[3000]\ttraining's auc: 0.919077\tvalid_1's auc: 0.893948\n",
      "[4000]\ttraining's auc: 0.924001\tvalid_1's auc: 0.89606\n",
      "[5000]\ttraining's auc: 0.928194\tvalid_1's auc: 0.89724\n",
      "[6000]\ttraining's auc: 0.932003\tvalid_1's auc: 0.89817\n",
      "[7000]\ttraining's auc: 0.935468\tvalid_1's auc: 0.89872\n",
      "[8000]\ttraining's auc: 0.938761\tvalid_1's auc: 0.89904\n",
      "[9000]\ttraining's auc: 0.941942\tvalid_1's auc: 0.899227\n",
      "[10000]\ttraining's auc: 0.944957\tvalid_1's auc: 0.899369\n",
      "Did not meet early stopping. Best iteration is:\n",
      "[10000]\ttraining's auc: 0.944957\tvalid_1's auc: 0.899369\n",
      "Fold idx:2\n",
      "Training until validation scores don't improve for 4000 rounds.\n",
      "[1000]\ttraining's auc: 0.903164\tvalid_1's auc: 0.879145\n",
      "[2000]\ttraining's auc: 0.913339\tvalid_1's auc: 0.886907\n",
      "[3000]\ttraining's auc: 0.919664\tvalid_1's auc: 0.891203\n",
      "[4000]\ttraining's auc: 0.924747\tvalid_1's auc: 0.89346\n",
      "[5000]\ttraining's auc: 0.928976\tvalid_1's auc: 0.89464\n",
      "[6000]\ttraining's auc: 0.932639\tvalid_1's auc: 0.895544\n",
      "[7000]\ttraining's auc: 0.936068\tvalid_1's auc: 0.895919\n",
      "[8000]\ttraining's auc: 0.939328\tvalid_1's auc: 0.896058\n",
      "[9000]\ttraining's auc: 0.942454\tvalid_1's auc: 0.896314\n",
      "[10000]\ttraining's auc: 0.945459\tvalid_1's auc: 0.896328\n",
      "Did not meet early stopping. Best iteration is:\n",
      "[10000]\ttraining's auc: 0.945459\tvalid_1's auc: 0.896328\n",
      "Fold idx:3\n",
      "Training until validation scores don't improve for 4000 rounds.\n",
      "[1000]\ttraining's auc: 0.901463\tvalid_1's auc: 0.88644\n",
      "[2000]\ttraining's auc: 0.911903\tvalid_1's auc: 0.893664\n",
      "[3000]\ttraining's auc: 0.918506\tvalid_1's auc: 0.897009\n",
      "[4000]\ttraining's auc: 0.923651\tvalid_1's auc: 0.89907\n",
      "[5000]\ttraining's auc: 0.927926\tvalid_1's auc: 0.900266\n",
      "[6000]\ttraining's auc: 0.931715\tvalid_1's auc: 0.900884\n",
      "[7000]\ttraining's auc: 0.935192\tvalid_1's auc: 0.901324\n",
      "[8000]\ttraining's auc: 0.938497\tvalid_1's auc: 0.901524\n",
      "[9000]\ttraining's auc: 0.94163\tvalid_1's auc: 0.90158\n",
      "[10000]\ttraining's auc: 0.944614\tvalid_1's auc: 0.901621\n",
      "Did not meet early stopping. Best iteration is:\n",
      "[10000]\ttraining's auc: 0.944614\tvalid_1's auc: 0.901621\n",
      "Fold idx:4\n",
      "Training until validation scores don't improve for 4000 rounds.\n",
      "[1000]\ttraining's auc: 0.901417\tvalid_1's auc: 0.884581\n",
      "[2000]\ttraining's auc: 0.911751\tvalid_1's auc: 0.89183\n",
      "[3000]\ttraining's auc: 0.91835\tvalid_1's auc: 0.895182\n",
      "[4000]\ttraining's auc: 0.923596\tvalid_1's auc: 0.897673\n",
      "[5000]\ttraining's auc: 0.927919\tvalid_1's auc: 0.8989\n",
      "[6000]\ttraining's auc: 0.931714\tvalid_1's auc: 0.89977\n",
      "[7000]\ttraining's auc: 0.935301\tvalid_1's auc: 0.900257\n",
      "[8000]\ttraining's auc: 0.938645\tvalid_1's auc: 0.900374\n",
      "[9000]\ttraining's auc: 0.941758\tvalid_1's auc: 0.900522\n",
      "[10000]\ttraining's auc: 0.944773\tvalid_1's auc: 0.900578\n",
      "Did not meet early stopping. Best iteration is:\n",
      "[10000]\ttraining's auc: 0.944773\tvalid_1's auc: 0.900578\n",
      "Fold idx:5\n",
      "Training until validation scores don't improve for 4000 rounds.\n",
      "[1000]\ttraining's auc: 0.901678\tvalid_1's auc: 0.888211\n",
      "[2000]\ttraining's auc: 0.911836\tvalid_1's auc: 0.895095\n",
      "[3000]\ttraining's auc: 0.918316\tvalid_1's auc: 0.898597\n",
      "[4000]\ttraining's auc: 0.923483\tvalid_1's auc: 0.900561\n",
      "[5000]\ttraining's auc: 0.927733\tvalid_1's auc: 0.901504\n",
      "[6000]\ttraining's auc: 0.931456\tvalid_1's auc: 0.902181\n",
      "[7000]\ttraining's auc: 0.934991\tvalid_1's auc: 0.902609\n",
      "[8000]\ttraining's auc: 0.938296\tvalid_1's auc: 0.902935\n",
      "[9000]\ttraining's auc: 0.941418\tvalid_1's auc: 0.903049\n",
      "[10000]\ttraining's auc: 0.944446\tvalid_1's auc: 0.903121\n",
      "Did not meet early stopping. Best iteration is:\n",
      "[10000]\ttraining's auc: 0.944446\tvalid_1's auc: 0.903121\n",
      "CV score: 0.90017 \n"
     ]
    }
   ],
   "source": [
    "# frolds 지정\n",
    "num_folds = 5\n",
    "#.columns를 통해 변수 지정\n",
    "features = [c for c in train.columns ]\n",
    "\n",
    "#계층별 kfold\n",
    "folds = StratifiedKFold(n_splits=num_folds, shuffle=False, random_state=2319)\n",
    "\n",
    "oof = np.zeros(len(train))\n",
    "getVal = np.zeros(len(train))\n",
    "predictions = np.zeros(len(target))\n",
    "feature_importance_df = pd.DataFrame()\n",
    "\n",
    "print('Light GBM Model')\n",
    "for fold_, (trn_idx, val_idx) in enumerate(folds.split(train.values, target.values)):\n",
    "    \n",
    "    X_train, y_train = train.iloc[trn_idx][features], target.iloc[trn_idx]\n",
    "    X_valid, y_valid = train.iloc[val_idx][features], target.iloc[val_idx]\n",
    "    \n",
    "    print(\"Fold idx:{}\".format(fold_ + 1))\n",
    "    trn_data = lgb.Dataset(X_train, label=y_train)\n",
    "    val_data = lgb.Dataset(X_valid, label=y_valid)\n",
    "    \n",
    "    clf = lgb.train(param, trn_data, 10000 ,valid_sets = [trn_data, val_data], verbose_eval=1000, early_stopping_rounds = 4000)\n",
    "    oof[val_idx] = clf.predict(train.iloc[val_idx][features], num_iteration=clf.best_iteration)\n",
    "    getVal[val_idx]+= clf.predict(train.iloc[val_idx][features], num_iteration=clf.best_iteration) / folds.n_splits\n",
    "    \n",
    "    fold_importance_df = pd.DataFrame()\n",
    "    fold_importance_df[\"feature\"] = features\n",
    "    fold_importance_df[\"importance\"] = clf.feature_importance()\n",
    "    fold_importance_df[\"fold\"] = fold_ + 1\n",
    "    feature_importance_df = pd.concat([feature_importance_df, fold_importance_df], axis=0)\n",
    "    \n",
    "    predictions += clf.predict(test[features], num_iteration=clf.best_iteration) / folds.n_splits\n",
    "\n",
    "print(\"CV score: {:<8.5f}\".format(roc_auc_score(target, oof)))"
   ]
  },
  {
   "cell_type": "code",
   "execution_count": 25,
   "metadata": {},
   "outputs": [],
   "source": [
    "##submission\n",
    "sub_df1 = pd.DataFrame({\"ID_code\":test_id})\n",
    "sub_df1[\"target\"] = predictions\n",
    "sub_df1.to_csv(\"lgboost_oof.csv\", index=False)"
   ]
  }
 ],
 "metadata": {
  "kernelspec": {
   "display_name": "Python 3",
   "language": "python",
   "name": "python3"
  },
  "language_info": {
   "codemirror_mode": {
    "name": "ipython",
    "version": 3
   },
   "file_extension": ".py",
   "mimetype": "text/x-python",
   "name": "python",
   "nbconvert_exporter": "python",
   "pygments_lexer": "ipython3",
   "version": "3.7.1"
  },
  "varInspector": {
   "cols": {
    "lenName": 16,
    "lenType": 16,
    "lenVar": 40
   },
   "kernels_config": {
    "python": {
     "delete_cmd_postfix": "",
     "delete_cmd_prefix": "del ",
     "library": "var_list.py",
     "varRefreshCmd": "print(var_dic_list())"
    },
    "r": {
     "delete_cmd_postfix": ") ",
     "delete_cmd_prefix": "rm(",
     "library": "var_list.r",
     "varRefreshCmd": "cat(var_dic_list()) "
    }
   },
   "types_to_exclude": [
    "module",
    "function",
    "builtin_function_or_method",
    "instance",
    "_Feature"
   ],
   "window_display": false
  }
 },
 "nbformat": 4,
 "nbformat_minor": 2
}
