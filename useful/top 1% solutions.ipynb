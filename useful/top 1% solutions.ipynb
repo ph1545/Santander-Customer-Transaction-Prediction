{
 "cells": [
  {
   "cell_type": "code",
   "execution_count": 3,
   "metadata": {},
   "outputs": [],
   "source": [
    "import numpy as np \n",
    "import pandas as pd \n",
    "\n",
    "from sklearn.model_selection import train_test_split\n",
    "from sklearn.model_selection import KFold,StratifiedKFold\n",
    "from sklearn.model_selection import GridSearchCV\n",
    "\n",
    "from xgboost import XGBClassifier\n",
    "from lightgbm import LGBMClassifier \n",
    "import lightgbm as lgb\n",
    "from tqdm import tqdm_notebook\n",
    "from sklearn.metrics import roc_auc_score\n",
    "from sklearn.preprocessing import StandardScaler"
   ]
  },
  {
   "cell_type": "code",
   "execution_count": 5,
   "metadata": {},
   "outputs": [
    {
     "data": {
      "application/vnd.jupyter.widget-view+json": {
       "model_id": "2220b0d1f87e4cbcb34eb3286e93fd88",
       "version_major": 2,
       "version_minor": 0
      },
      "text/plain": [
       "HBox(children=(IntProgress(value=0, max=200), HTML(value='')))"
      ]
     },
     "metadata": {},
     "output_type": "display_data"
    },
    {
     "name": "stdout",
     "output_type": "stream",
     "text": [
      "\n",
      "Real test data 100000\n",
      "Fake test data 100000\n"
     ]
    }
   ],
   "source": [
    "# GET INDICIES OF REAL TEST DATA FOR FE\n",
    "#######################\n",
    "# TAKE FROM YAG320'S KERNEL\n",
    "# https://www.kaggle.com/yag320/list-of-fake-samples-and-public-private-lb-split\n",
    "df_test = pd.read_csv('test.csv')\n",
    "df_test.drop(['ID_code'], axis=1, inplace=True)\n",
    "df_test = df_test.values\n",
    "\n",
    "unique_samples = []\n",
    "#  np.zeros_like(df_test).shape = (200000, 200)\n",
    "unique_count = np.zeros_like(df_test)\n",
    "# df_test.shape[1] =200\n",
    "for feature in tqdm_notebook(range(df_test.shape[1])):\n",
    "    # _= unique값, index_ = unique 값의 첫 번째 등장하는 index, count_ = unique 값의 count\n",
    "    _, index_, count_ = np.unique(df_test[:, feature], return_counts=True, return_index=True)\n",
    "    \n",
    "    unique_count[index_[count_ == 1], feature] += 1\n",
    "\n",
    "# Samples which have unique values are real the others are fake\n",
    "real_samples_indexes = np.argwhere(np.sum(unique_count, axis=1) > 0)[:, 0]\n",
    "synthetic_samples_indexes = np.argwhere(np.sum(unique_count, axis=1) == 0)[:, 0]\n",
    "\n",
    "print('Real test data',len(real_samples_indexes))\n",
    "print('Fake test data',len(synthetic_samples_indexes))"
   ]
  },
  {
   "cell_type": "code",
   "execution_count": 124,
   "metadata": {},
   "outputs": [],
   "source": [
    "train = pd.read_csv(\"train.csv\")\n",
    "test = pd.read_csv(\"test.csv\")\n",
    "test_id = test['ID_code']\n",
    "real_test = test.loc[real_samples_indexes]\n",
    "real_test_id = real_test.ID_code"
   ]
  },
  {
   "cell_type": "code",
   "execution_count": 63,
   "metadata": {},
   "outputs": [
    {
     "name": "stdout",
     "output_type": "stream",
     "text": [
      "train set Shape : (200000, 202)\n",
      "test set Shape : (200000, 201)\n",
      "Real test set Shape : (100000, 201)\n"
     ]
    }
   ],
   "source": [
    "print('train set Shape :', train.shape)\n",
    "print('test set Shape :',test.shape)\n",
    "print('Real test set Shape :',real_test.shape)\n",
    "del test"
   ]
  },
  {
   "cell_type": "code",
   "execution_count": 64,
   "metadata": {},
   "outputs": [],
   "source": [
    "real_test['target'] = -1\n",
    "comb = pd.concat([train,real_test],axis=0,sort=True)"
   ]
  },
  {
   "cell_type": "code",
   "execution_count": 134,
   "metadata": {},
   "outputs": [
    {
     "data": {
      "application/vnd.jupyter.widget-view+json": {
       "model_id": "e3e47573ac59461ab3f7cf509ef44aa7",
       "version_major": 2,
       "version_minor": 0
      },
      "text/plain": [
       "HBox(children=(IntProgress(value=0, max=200), HTML(value='')))"
      ]
     },
     "metadata": {},
     "output_type": "display_data"
    }
   ],
   "source": [
    "#frequency encoding\n",
    "for i in tqdm_notebook(range(200)):\n",
    "    fe = comb['var_'+str(i)].value_counts()\n",
    "    name = 'var_'+str(i)+'_FE'\n",
    "    comb[name] = comb['var_'+str(i)].map(fe)\n",
    "train = comb[:len(train)]\n",
    "test = comb[len(train):]"
   ]
  },
  {
   "cell_type": "code",
   "execution_count": 135,
   "metadata": {},
   "outputs": [
    {
     "name": "stdout",
     "output_type": "stream",
     "text": [
      "(200000, 402)\n",
      "(100000, 402)\n"
     ]
    }
   ],
   "source": [
    "print(train.shape)\n",
    "print(test.shape)"
   ]
  },
  {
   "cell_type": "code",
   "execution_count": 136,
   "metadata": {},
   "outputs": [
    {
     "name": "stderr",
     "output_type": "stream",
     "text": [
      "C:\\Users\\user\\Anaconda3\\lib\\site-packages\\pandas\\core\\frame.py:3697: SettingWithCopyWarning: \n",
      "A value is trying to be set on a copy of a slice from a DataFrame\n",
      "\n",
      "See the caveats in the documentation: http://pandas.pydata.org/pandas-docs/stable/indexing.html#indexing-view-versus-copy\n",
      "  errors=errors)\n"
     ]
    }
   ],
   "source": [
    "target = train['target']\n",
    "del train['target']\n",
    "del test['target']\n",
    "\n",
    "train.drop('ID_code',axis=1 , inplace=True)\n",
    "test.drop('ID_code',axis=1 , inplace=True)"
   ]
  },
  {
   "cell_type": "code",
   "execution_count": 174,
   "metadata": {},
   "outputs": [
    {
     "data": {
      "application/vnd.jupyter.widget-view+json": {
       "model_id": "2ba10ea6dfef40f4b3068b955cfc3938",
       "version_major": 2,
       "version_minor": 0
      },
      "text/plain": [
       "HBox(children=(IntProgress(value=0, max=200), HTML(value='')))"
      ]
     },
     "metadata": {},
     "output_type": "display_data"
    },
    {
     "name": "stdout",
     "output_type": "stream",
     "text": [
      "CV score: 0.55132 \n",
      "CV score: 0.57816 \n",
      "CV score: 0.60109 \n",
      "CV score: 0.60391 \n",
      "CV score: 0.60580 \n",
      "CV score: 0.61538 \n",
      "CV score: 0.63498 \n",
      "CV score: 0.63589 \n",
      "CV score: 0.63876 \n",
      "CV score: 0.64950 \n",
      "CV score: 0.65025 \n",
      "CV score: 0.65342 \n",
      "CV score: 0.66970 \n",
      "CV score: 0.68065 \n",
      "CV score: 0.68165 \n",
      "CV score: 0.68336 \n",
      "CV score: 0.68420 \n",
      "CV score: 0.68480 \n",
      "CV score: 0.69244 \n",
      "CV score: 0.69406 \n",
      "CV score: 0.69628 \n",
      "CV score: 0.70639 \n",
      "CV score: 0.71545 \n",
      "CV score: 0.71738 \n",
      "CV score: 0.71986 \n",
      "CV score: 0.72066 \n",
      "CV score: 0.73088 \n",
      "CV score: 0.73132 \n",
      "CV score: 0.73302 \n",
      "CV score: 0.73348 \n",
      "CV score: 0.73381 \n",
      "CV score: 0.73534 \n",
      "CV score: 0.73858 \n",
      "CV score: 0.74422 \n",
      "CV score: 0.74924 \n",
      "CV score: 0.75252 \n",
      "CV score: 0.75578 \n",
      "CV score: 0.75639 \n",
      "CV score: 0.75681 \n",
      "CV score: 0.75720 \n",
      "CV score: 0.76295 \n",
      "CV score: 0.76334 \n",
      "CV score: 0.76390 \n",
      "CV score: 0.76554 \n",
      "CV score: 0.77195 \n",
      "CV score: 0.77356 \n",
      "CV score: 0.77394 \n",
      "CV score: 0.77437 \n",
      "CV score: 0.77668 \n",
      "CV score: 0.77939 \n",
      "CV score: 0.78001 \n",
      "CV score: 0.78219 \n",
      "CV score: 0.78426 \n",
      "CV score: 0.79058 \n",
      "CV score: 0.79145 \n",
      "CV score: 0.79242 \n",
      "CV score: 0.79472 \n",
      "CV score: 0.79532 \n",
      "CV score: 0.79663 \n",
      "CV score: 0.79714 \n",
      "CV score: 0.79765 \n",
      "CV score: 0.79808 \n",
      "CV score: 0.79865 \n",
      "CV score: 0.79967 \n",
      "CV score: 0.80030 \n",
      "CV score: 0.80078 \n",
      "CV score: 0.80176 \n",
      "CV score: 0.80462 \n",
      "CV score: 0.80519 \n",
      "CV score: 0.80583 \n",
      "CV score: 0.80761 \n",
      "CV score: 0.80886 \n",
      "CV score: 0.80940 \n",
      "CV score: 0.80979 \n",
      "CV score: 0.81080 \n",
      "CV score: 0.81364 \n",
      "CV score: 0.81874 \n",
      "CV score: 0.81939 \n",
      "CV score: 0.82287 \n",
      "CV score: 0.82315 \n",
      "CV score: 0.82816 \n",
      "CV score: 0.83541 \n",
      "CV score: 0.83688 \n",
      "CV score: 0.83799 \n",
      "CV score: 0.83842 \n",
      "CV score: 0.83939 \n",
      "CV score: 0.84213 \n",
      "CV score: 0.84344 \n",
      "CV score: 0.84411 \n",
      "CV score: 0.84573 \n",
      "CV score: 0.84696 \n",
      "CV score: 0.84860 \n",
      "CV score: 0.85139 \n",
      "CV score: 0.85253 \n",
      "CV score: 0.85488 \n",
      "CV score: 0.85637 \n",
      "CV score: 0.85654 \n",
      "CV score: 0.85733 \n",
      "CV score: 0.85749 \n",
      "CV score: 0.86061 \n",
      "CV score: 0.86077 \n",
      "CV score: 0.86097 \n",
      "CV score: 0.86179 \n",
      "CV score: 0.86195 \n",
      "CV score: 0.86257 \n",
      "CV score: 0.86323 \n",
      "CV score: 0.86435 \n",
      "CV score: 0.86608 \n",
      "CV score: 0.86841 \n",
      "CV score: 0.87131 \n",
      "CV score: 0.87460 \n",
      "CV score: 0.87530 \n",
      "CV score: 0.87615 \n",
      "CV score: 0.87663 \n",
      "CV score: 0.87745 \n",
      "CV score: 0.87896 \n",
      "CV score: 0.87945 \n",
      "CV score: 0.87968 \n",
      "CV score: 0.88104 \n",
      "CV score: 0.88224 \n",
      "CV score: 0.88257 \n",
      "CV score: 0.88413 \n",
      "CV score: 0.88574 \n",
      "CV score: 0.88731 \n",
      "CV score: 0.88751 \n",
      "CV score: 0.88813 \n",
      "CV score: 0.88833 \n",
      "CV score: 0.88974 \n",
      "CV score: 0.89049 \n",
      "CV score: 0.89068 \n",
      "CV score: 0.89167 \n",
      "CV score: 0.89236 \n",
      "CV score: 0.89298 \n",
      "CV score: 0.89473 \n",
      "CV score: 0.89514 \n",
      "CV score: 0.89605 \n",
      "CV score: 0.89619 \n",
      "CV score: 0.89694 \n",
      "CV score: 0.89730 \n",
      "CV score: 0.90085 \n",
      "CV score: 0.90104 \n",
      "CV score: 0.90200 \n",
      "CV score: 0.90237 \n",
      "CV score: 0.90256 \n",
      "CV score: 0.90303 \n",
      "CV score: 0.90380 \n",
      "CV score: 0.90603 \n",
      "CV score: 0.90746 \n",
      "CV score: 0.90878 \n",
      "CV score: 0.91009 \n",
      "CV score: 0.91068 \n",
      "CV score: 0.91117 \n",
      "CV score: 0.91136 \n",
      "CV score: 0.91146 \n",
      "CV score: 0.91253 \n",
      "CV score: 0.91352 \n",
      "CV score: 0.91384 \n",
      "CV score: 0.91460 \n",
      "CV score: 0.91472 \n",
      "CV score: 0.91488 \n",
      "CV score: 0.91502 \n",
      "CV score: 0.91515 \n",
      "CV score: 0.91574 \n",
      "CV score: 0.91655 \n",
      "CV score: 0.91779 \n",
      "CV score: 0.91947 \n",
      "CV score: 0.92092 \n",
      "CV score: 0.92155 \n",
      "CV score: 0.92183 \n",
      "CV score: 0.92279 \n",
      "CV score: 0.92399 \n",
      "CV score: 0.92423 \n",
      "CV score: 0.92516 \n",
      "CV score: 0.92599 \n",
      "CV score: 0.92760 \n",
      "CV score: 0.92795 \n",
      "CV score: 0.92805 \n",
      "CV score: 0.92897 \n",
      "CV score: 0.92924 \n",
      "CV score: 0.93020 \n",
      "CV score: 0.93081 \n",
      "CV score: 0.93097 \n",
      "CV score: 0.93109 \n",
      "CV score: 0.93121 \n",
      "CV score: 0.93239 \n",
      "CV score: 0.93247 \n",
      "CV score: 0.93278 \n",
      "CV score: 0.93319 \n",
      "CV score: 0.93391 \n",
      "CV score: 0.93400 \n",
      "CV score: 0.93522 \n",
      "CV score: 0.93604 \n",
      "CV score: 0.93667 \n",
      "CV score: 0.93691 \n",
      "CV score: 0.93710 \n",
      "CV score: 0.93748 \n",
      "CV score: 0.93776 \n",
      "CV score: 0.93823 \n",
      "CV score: 0.93938 \n",
      "CV score: 0.93972 \n"
     ]
    }
   ],
   "source": [
    "auc = np.zeros(len(train))\n",
    "predictions = np.zeros(len(test))\n",
    "num_vars = 200\n",
    "for j in tqdm_notebook(range(num_vars)):\n",
    "    \n",
    "    # MODEL WITH MAGIC\n",
    "    features = ['var_'+str(j),'var_'+str(j)+'_FE']\n",
    "    \n",
    "    #  Bayesian Optimization             \n",
    "    model = lgb.LGBMClassifier(** {'bagging_fraction': 0.7693,\n",
    "   'bagging_freq': 2,'lambda_l1': 0.7199,'lambda_l2': 1.992,'learning_rate': 0.009455,'max_depth': 3,'min_data_in_leaf': 22,\n",
    "   'min_gain_to_split': 0.06549, 'min_sum_hessian_in_leaf': 18.55,'num_leaves': 20,'feature_fraction': 1,'save_binary': True,\n",
    "   'objective': 'binary','boosting_type': 'gbdt','verbosity': -1, 'metric': 'auc','is_unbalance': True,'boost_from_average': 'false',\n",
    "   'num_threads': 6})\n",
    "\n",
    "    model = model.fit(train[features], target)\n",
    "    auc += model.predict_proba(train[features])[:,1]\n",
    "    predictions += model.predict_proba(test[features])[:,1]\n",
    "    \n",
    "    print(\"CV score: {:<8.5f}\".format(roc_auc_score(target, auc)))"
   ]
  },
  {
   "cell_type": "code",
   "execution_count": 175,
   "metadata": {},
   "outputs": [],
   "source": [
    "subreal = pd.DataFrame({\"ID_code\": real_test_id.values})\n",
    "subreal['target']=predictions\n",
    "sub = pd.DataFrame({\"ID_code\": test_id})"
   ]
  },
  {
   "cell_type": "code",
   "execution_count": 176,
   "metadata": {},
   "outputs": [],
   "source": [
    "finalsub = sub.set_index('ID_code').join(subreal.set_index('ID_code')).reset_index()\n",
    "finalsub.fillna(0,inplace=True)\n",
    "finalsub.to_csv('top1% submission.csv', index=False)"
   ]
  }
 ],
 "metadata": {
  "kernelspec": {
   "display_name": "Python 3",
   "language": "python",
   "name": "python3"
  },
  "language_info": {
   "codemirror_mode": {
    "name": "ipython",
    "version": 3
   },
   "file_extension": ".py",
   "mimetype": "text/x-python",
   "name": "python",
   "nbconvert_exporter": "python",
   "pygments_lexer": "ipython3",
   "version": "3.7.1"
  },
  "varInspector": {
   "cols": {
    "lenName": 16,
    "lenType": 16,
    "lenVar": 40
   },
   "kernels_config": {
    "python": {
     "delete_cmd_postfix": "",
     "delete_cmd_prefix": "del ",
     "library": "var_list.py",
     "varRefreshCmd": "print(var_dic_list())"
    },
    "r": {
     "delete_cmd_postfix": ") ",
     "delete_cmd_prefix": "rm(",
     "library": "var_list.r",
     "varRefreshCmd": "cat(var_dic_list()) "
    }
   },
   "types_to_exclude": [
    "module",
    "function",
    "builtin_function_or_method",
    "instance",
    "_Feature"
   ],
   "window_display": false
  }
 },
 "nbformat": 4,
 "nbformat_minor": 2
}
